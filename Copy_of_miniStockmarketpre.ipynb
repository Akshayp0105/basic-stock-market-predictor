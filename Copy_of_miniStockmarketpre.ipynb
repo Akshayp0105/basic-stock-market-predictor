{
  "nbformat": 4,
  "nbformat_minor": 0,
  "metadata": {
    "colab": {
      "provenance": []
    },
    "kernelspec": {
      "name": "python3",
      "display_name": "Python 3"
    },
    "language_info": {
      "name": "python"
    }
  },
  "cells": [
    {
      "cell_type": "code",
      "source": [
        "import pandas as pd\n",
        "from sklearn.ensemble import RandomForestRegressor\n",
        "from sklearn.metrics import mean_squared_error\n",
        "from sklearn.preprocessing import StandardScaler\n",
        "from sklearn.pipeline import Pipeline\n",
        "import yfinance as yf\n",
        "\n",
        "def preprocess_data(data):\n",
        "    data['YEAR'] = data.index.year\n",
        "    data['MONTH'] = data.index.month\n",
        "    data['DAY'] = data.index.day\n",
        "    return data\n",
        "\n",
        "\n",
        "def train_model(X, y):\n",
        "    pipeline = Pipeline([\n",
        "        ('scaler', StandardScaler()),\n",
        "        ('regressor', RandomForestRegressor(random_state=42))\n",
        "    ])\n",
        "\n",
        "    pipeline.fit(X, y)\n",
        "\n",
        "\n",
        "    y_pred = pipeline.predict(X)\n",
        "    mse = mean_squared_error(y, y_pred)\n",
        "    print(\"Mean Squared Error:\", mse)\n",
        "\n",
        "    return pipeline\n",
        "\n",
        "\n",
        "def predict_stock_price(model, data):\n",
        "    last_data = data[['YEAR', 'MONTH', 'DAY']].iloc[-1].values.reshape(1, -1)\n",
        "    prediction = model.predict(last_data)\n",
        "    return prediction[0]\n",
        "\n",
        "\n",
        "def load_stock_data(symbol, start_date, end_date):\n",
        "    data = yf.download(symbol, start=start_date, end=end_date)\n",
        "    return data\n",
        "\n",
        "\n",
        "def main():\n",
        "\n",
        "    companies = ['RELIANCE.NS', 'MSFT', 'GOOGL', 'ACN', 'HCLTECH.NS', 'BAJAJ-AUTO.NS', 'TATAMOTORS.NS', 'ADANIPORTS.NS']\n",
        "\n",
        "    for symbol in companies:\n",
        "        print(\"stock predicion\", symbol)\n",
        "        start_date = '2000-01-01'\n",
        "        end_date = '2024-02-02'\n",
        "        try:\n",
        "            data = load_stock_data(symbol, start_date, end_date)\n",
        "            data = preprocess_data(data)\n",
        "            X = data[['YEAR', 'MONTH', 'DAY']]\n",
        "            y = data['Close']\n",
        "            model = train_model(X, y)\n",
        "            predicted_price = predict_stock_price(model, data)\n",
        "            print(\"Predicted stock price for\", symbol, \":\", predicted_price)\n",
        "        except Exception as e:\n",
        "            print(\"Error predicting stock price for\", symbol, \":\", e)\n",
        "\n",
        "if __name__ == \"__main__\":\n",
        "    main()\n"
      ],
      "metadata": {
        "colab": {
          "base_uri": "https://localhost:8080/"
        },
        "id": "1F0ebslj4IsP",
        "outputId": "f9e2edeb-3440-4373-e041-988f451d02ab"
      },
      "execution_count": null,
      "outputs": [
        {
          "output_type": "stream",
          "name": "stderr",
          "text": [
            "/usr/local/lib/python3.10/dist-packages/yfinance/base.py:48: FutureWarning: The default dtype for empty Series will be 'object' instead of 'float64' in a future version. Specify a dtype explicitly to silence this warning.\n",
            "  _empty_series = pd.Series()\n"
          ]
        },
        {
          "output_type": "stream",
          "name": "stdout",
          "text": [
            "stock predicion RELIANCE.NS\n"
          ]
        },
        {
          "output_type": "stream",
          "name": "stderr",
          "text": [
            "\r[*********************100%%**********************]  1 of 1 completed\n"
          ]
        },
        {
          "output_type": "stream",
          "name": "stdout",
          "text": [
            "Mean Squared Error: 34.92804659283622\n",
            "Predicted stock price for RELIANCE.NS : 2755.38802734375\n",
            "stock predicion MSFT\n"
          ]
        },
        {
          "output_type": "stream",
          "name": "stderr",
          "text": [
            "/usr/local/lib/python3.10/dist-packages/sklearn/base.py:439: UserWarning: X does not have valid feature names, but StandardScaler was fitted with feature names\n",
            "  warnings.warn(\n",
            "[*********************100%%**********************]  1 of 1 completed\n"
          ]
        },
        {
          "output_type": "stream",
          "name": "stdout",
          "text": [
            "Mean Squared Error: 0.5902832865149438\n",
            "Predicted stock price for MSFT : 390.13679870605466\n",
            "stock predicion GOOGL\n"
          ]
        },
        {
          "output_type": "stream",
          "name": "stderr",
          "text": [
            "/usr/local/lib/python3.10/dist-packages/sklearn/base.py:439: UserWarning: X does not have valid feature names, but StandardScaler was fitted with feature names\n",
            "  warnings.warn(\n",
            "[*********************100%%**********************]  1 of 1 completed\n"
          ]
        },
        {
          "output_type": "stream",
          "name": "stdout",
          "text": [
            "Mean Squared Error: 0.15744067681318039\n",
            "Predicted stock price for GOOGL : 139.88270126342775\n",
            "stock predicion ACN\n"
          ]
        },
        {
          "output_type": "stream",
          "name": "stderr",
          "text": [
            "/usr/local/lib/python3.10/dist-packages/sklearn/base.py:439: UserWarning: X does not have valid feature names, but StandardScaler was fitted with feature names\n",
            "  warnings.warn(\n",
            "[*********************100%%**********************]  1 of 1 completed\n"
          ]
        },
        {
          "output_type": "stream",
          "name": "stdout",
          "text": [
            "Mean Squared Error: 0.8055281551279693\n",
            "Predicted stock price for ACN : 359.5246060180664\n",
            "stock predicion HCLTECH.NS\n"
          ]
        },
        {
          "output_type": "stream",
          "name": "stderr",
          "text": [
            "/usr/local/lib/python3.10/dist-packages/sklearn/base.py:439: UserWarning: X does not have valid feature names, but StandardScaler was fitted with feature names\n",
            "  warnings.warn(\n",
            "[*********************100%%**********************]  1 of 1 completed\n"
          ]
        },
        {
          "output_type": "stream",
          "name": "stdout",
          "text": [
            "Mean Squared Error: 9.2945717365354\n",
            "Predicted stock price for HCLTECH.NS : 1545.6360205078124\n",
            "stock predicion BAJAJ-AUTO.NS\n"
          ]
        },
        {
          "output_type": "stream",
          "name": "stderr",
          "text": [
            "/usr/local/lib/python3.10/dist-packages/sklearn/base.py:439: UserWarning: X does not have valid feature names, but StandardScaler was fitted with feature names\n",
            "  warnings.warn(\n",
            "[*********************100%%**********************]  1 of 1 completed\n"
          ]
        },
        {
          "output_type": "stream",
          "name": "stdout",
          "text": [
            "Mean Squared Error: 207.5418243881604\n",
            "Predicted stock price for BAJAJ-AUTO.NS : 7219.13900390625\n",
            "stock predicion TATAMOTORS.NS\n"
          ]
        },
        {
          "output_type": "stream",
          "name": "stderr",
          "text": [
            "/usr/local/lib/python3.10/dist-packages/sklearn/base.py:439: UserWarning: X does not have valid feature names, but StandardScaler was fitted with feature names\n",
            "  warnings.warn(\n",
            "[*********************100%%**********************]  1 of 1 completed\n"
          ]
        },
        {
          "output_type": "stream",
          "name": "stdout",
          "text": [
            "Mean Squared Error: 5.26059287568807\n",
            "Predicted stock price for TATAMOTORS.NS : 847.708998413086\n",
            "stock predicion ADANIPORTS.NS\n"
          ]
        },
        {
          "output_type": "stream",
          "name": "stderr",
          "text": [
            "/usr/local/lib/python3.10/dist-packages/sklearn/base.py:439: UserWarning: X does not have valid feature names, but StandardScaler was fitted with feature names\n",
            "  warnings.warn(\n",
            "[*********************100%%**********************]  1 of 1 completed\n"
          ]
        },
        {
          "output_type": "stream",
          "name": "stdout",
          "text": [
            "Mean Squared Error: 12.535648089858766\n",
            "Predicted stock price for ADANIPORTS.NS : 1157.9559790039064\n"
          ]
        },
        {
          "output_type": "stream",
          "name": "stderr",
          "text": [
            "/usr/local/lib/python3.10/dist-packages/sklearn/base.py:439: UserWarning: X does not have valid feature names, but StandardScaler was fitted with feature names\n",
            "  warnings.warn(\n"
          ]
        }
      ]
    }
  ]
}